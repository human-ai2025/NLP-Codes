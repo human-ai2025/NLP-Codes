{
  "nbformat": 4,
  "nbformat_minor": 0,
  "metadata": {
    "colab": {
      "provenance": [],
      "authorship_tag": "ABX9TyOrYqInBVreQhkXWcOmzEv5",
      "include_colab_link": true
    },
    "kernelspec": {
      "name": "python3",
      "display_name": "Python 3"
    },
    "language_info": {
      "name": "python"
    }
  },
  "cells": [
    {
      "cell_type": "markdown",
      "metadata": {
        "id": "view-in-github",
        "colab_type": "text"
      },
      "source": [
        "<a href=\"https://colab.research.google.com/github/human-ai2025/NLP-Codes/blob/master/NLP_ML_Basics.ipynb\" target=\"_parent\"><img src=\"https://colab.research.google.com/assets/colab-badge.svg\" alt=\"Open In Colab\"/></a>"
      ]
    },
    {
      "cell_type": "markdown",
      "source": [
        "##  Imports "
      ],
      "metadata": {
        "id": "g95tsFrwHB13"
      }
    },
    {
      "cell_type": "code",
      "source": [
        "# Tokenization of paragraphs/sentences\n",
        "import nltk\n",
        "from nltk.stem import PorterStemmer\n",
        "from nltk.stem import WordNetLemmatizer\n",
        "from nltk.corpus import stopwords\n",
        "\n",
        "# nltk.download('punkt')\n",
        "# nltk.download('stopwords') stopwords\n",
        "# nltk.download('wordnet') WordNetLemmatizer\n",
        "# nltk.download('omw-1.4')"
      ],
      "metadata": {
        "id": "RPgzAUjmHAed"
      },
      "execution_count": 38,
      "outputs": []
    },
    {
      "cell_type": "code",
      "source": [
        "paragraph = \"\"\"I have three visions for India. In 3000 years of our history, people from all over \n",
        "               the world have come and invaded us, captured our lands, conquered our minds. \n",
        "               From Alexander onwards, the Greeks, the Turks, the Moguls, the Portuguese, the British,\n",
        "               the French, the Dutch, all of them came and looted us, took over what was ours. \n",
        "               Yet we have not done this to any other nation. We have not conquered anyone. \n",
        "               We have not grabbed their land, their culture, \n",
        "               their history and tried to enforce our way of life on them. \n",
        "               Why? Because we respect the freedom of others.That is why my \n",
        "               first vision is that of freedom. I believe that India got its first vision of \n",
        "               this in 1857, when we started the War of Independence. It is this freedom that\n",
        "               we must protect and nurture and build on. If we are not free, no one will respect us.\n",
        "               My second vision for India’s development. For fifty years we have been a developing nation.\n",
        "               It is time we see ourselves as a developed nation. We are among the top 5 nations of the world\n",
        "               in terms of GDP. We have a 10 percent growth rate in most areas. Our poverty levels are falling.\n",
        "               Our achievements are being globally recognised today. Yet we lack the self-confidence to\n",
        "               see ourselves as a developed nation, self-reliant and self-assured. Isn’t this incorrect?\n",
        "               I have a third vision. India must stand up to the world. Because I believe that unless India \n",
        "               stands up to the world, no one will respect us. Only strength respects strength. We must be \n",
        "               strong not only as a military power but also as an economic power. Both must go hand-in-hand. \n",
        "               My good fortune was to have worked with three great minds. Dr. Vikram Sarabhai of the Dept. of \n",
        "               space, Professor Satish Dhawan, who succeeded him and Dr. Brahm Prakash, father of nuclear material.\n",
        "               I was lucky to have worked with all three of them closely and consider this the great opportunity of my life. \n",
        "               I see four milestones in my career\"\"\""
      ],
      "metadata": {
        "id": "G2gQqZ6WHHR5"
      },
      "execution_count": 39,
      "outputs": []
    },
    {
      "cell_type": "code",
      "source": [
        "paragraph # new line represented by \\n "
      ],
      "metadata": {
        "colab": {
          "base_uri": "https://localhost:8080/",
          "height": 109
        },
        "id": "6JJvCXx8HebK",
        "outputId": "53f8f1b2-8231-44da-8a0f-5ca1824f30c1"
      },
      "execution_count": 40,
      "outputs": [
        {
          "output_type": "execute_result",
          "data": {
            "text/plain": [
              "'I have three visions for India. In 3000 years of our history, people from all over \\n               the world have come and invaded us, captured our lands, conquered our minds. \\n               From Alexander onwards, the Greeks, the Turks, the Moguls, the Portuguese, the British,\\n               the French, the Dutch, all of them came and looted us, took over what was ours. \\n               Yet we have not done this to any other nation. We have not conquered anyone. \\n               We have not grabbed their land, their culture, \\n               their history and tried to enforce our way of life on them. \\n               Why? Because we respect the freedom of others.That is why my \\n               first vision is that of freedom. I believe that India got its first vision of \\n               this in 1857, when we started the War of Independence. It is this freedom that\\n               we must protect and nurture and build on. If we are not free, no one will respect us.\\n               My second vision for India’s development. For fifty years we have been a developing nation.\\n               It is time we see ourselves as a developed nation. We are among the top 5 nations of the world\\n               in terms of GDP. We have a 10 percent growth rate in most areas. Our poverty levels are falling.\\n               Our achievements are being globally recognised today. Yet we lack the self-confidence to\\n               see ourselves as a developed nation, self-reliant and self-assured. Isn’t this incorrect?\\n               I have a third vision. India must stand up to the world. Because I believe that unless India \\n               stands up to the world, no one will respect us. Only strength respects strength. We must be \\n               strong not only as a military power but also as an economic power. Both must go hand-in-hand. \\n               My good fortune was to have worked with three great minds. Dr. Vikram Sarabhai of the Dept. of \\n               space, Professor Satish Dhawan, who succeeded him and Dr. Brahm Prakash, father of nuclear material.\\n               I was lucky to have worked with all three of them closely and consider this the great opportunity of my life. \\n               I see four milestones in my career'"
            ],
            "application/vnd.google.colaboratory.intrinsic+json": {
              "type": "string"
            }
          },
          "metadata": {},
          "execution_count": 40
        }
      ]
    },
    {
      "cell_type": "markdown",
      "source": [
        "## Tokenization "
      ],
      "metadata": {
        "id": "NMzP1VFmG8r8"
      }
    },
    {
      "cell_type": "code",
      "source": [
        "# Tokenizing sentences\n",
        "sentences = nltk.sent_tokenize(paragraph) # text to split into sentences\n",
        "\n",
        "# Tokenizing words\n",
        "words = nltk.word_tokenize(paragraph) # text to split into words"
      ],
      "metadata": {
        "id": "O92l7fE0G_c0"
      },
      "execution_count": 41,
      "outputs": []
    },
    {
      "cell_type": "code",
      "source": [
        "for idx, sen in enumerate(sentences):\n",
        "  print(\"{} --> {}\".format(idx, sen))"
      ],
      "metadata": {
        "colab": {
          "base_uri": "https://localhost:8080/"
        },
        "id": "8qK8QdRiHxV0",
        "outputId": "cff7c707-dd45-4025-d49a-84535e39b70b"
      },
      "execution_count": 42,
      "outputs": [
        {
          "output_type": "stream",
          "name": "stdout",
          "text": [
            "0 --> I have three visions for India.\n",
            "1 --> In 3000 years of our history, people from all over \n",
            "               the world have come and invaded us, captured our lands, conquered our minds.\n",
            "2 --> From Alexander onwards, the Greeks, the Turks, the Moguls, the Portuguese, the British,\n",
            "               the French, the Dutch, all of them came and looted us, took over what was ours.\n",
            "3 --> Yet we have not done this to any other nation.\n",
            "4 --> We have not conquered anyone.\n",
            "5 --> We have not grabbed their land, their culture, \n",
            "               their history and tried to enforce our way of life on them.\n",
            "6 --> Why?\n",
            "7 --> Because we respect the freedom of others.That is why my \n",
            "               first vision is that of freedom.\n",
            "8 --> I believe that India got its first vision of \n",
            "               this in 1857, when we started the War of Independence.\n",
            "9 --> It is this freedom that\n",
            "               we must protect and nurture and build on.\n",
            "10 --> If we are not free, no one will respect us.\n",
            "11 --> My second vision for India’s development.\n",
            "12 --> For fifty years we have been a developing nation.\n",
            "13 --> It is time we see ourselves as a developed nation.\n",
            "14 --> We are among the top 5 nations of the world\n",
            "               in terms of GDP.\n",
            "15 --> We have a 10 percent growth rate in most areas.\n",
            "16 --> Our poverty levels are falling.\n",
            "17 --> Our achievements are being globally recognised today.\n",
            "18 --> Yet we lack the self-confidence to\n",
            "               see ourselves as a developed nation, self-reliant and self-assured.\n",
            "19 --> Isn’t this incorrect?\n",
            "20 --> I have a third vision.\n",
            "21 --> India must stand up to the world.\n",
            "22 --> Because I believe that unless India \n",
            "               stands up to the world, no one will respect us.\n",
            "23 --> Only strength respects strength.\n",
            "24 --> We must be \n",
            "               strong not only as a military power but also as an economic power.\n",
            "25 --> Both must go hand-in-hand.\n",
            "26 --> My good fortune was to have worked with three great minds.\n",
            "27 --> Dr. Vikram Sarabhai of the Dept.\n",
            "28 --> of \n",
            "               space, Professor Satish Dhawan, who succeeded him and Dr. Brahm Prakash, father of nuclear material.\n",
            "29 --> I was lucky to have worked with all three of them closely and consider this the great opportunity of my life.\n",
            "30 --> I see four milestones in my career\n"
          ]
        }
      ]
    },
    {
      "cell_type": "code",
      "source": [
        "for idx, w in enumerate(words):\n",
        "  print(\"{} --> {}\".format(idx, w))"
      ],
      "metadata": {
        "colab": {
          "base_uri": "https://localhost:8080/"
        },
        "id": "01ylM2lOIVy9",
        "outputId": "e0240fb0-88bc-401f-d472-8593a69ac25d"
      },
      "execution_count": 43,
      "outputs": [
        {
          "output_type": "stream",
          "name": "stdout",
          "text": [
            "0 --> I\n",
            "1 --> have\n",
            "2 --> three\n",
            "3 --> visions\n",
            "4 --> for\n",
            "5 --> India\n",
            "6 --> .\n",
            "7 --> In\n",
            "8 --> 3000\n",
            "9 --> years\n",
            "10 --> of\n",
            "11 --> our\n",
            "12 --> history\n",
            "13 --> ,\n",
            "14 --> people\n",
            "15 --> from\n",
            "16 --> all\n",
            "17 --> over\n",
            "18 --> the\n",
            "19 --> world\n",
            "20 --> have\n",
            "21 --> come\n",
            "22 --> and\n",
            "23 --> invaded\n",
            "24 --> us\n",
            "25 --> ,\n",
            "26 --> captured\n",
            "27 --> our\n",
            "28 --> lands\n",
            "29 --> ,\n",
            "30 --> conquered\n",
            "31 --> our\n",
            "32 --> minds\n",
            "33 --> .\n",
            "34 --> From\n",
            "35 --> Alexander\n",
            "36 --> onwards\n",
            "37 --> ,\n",
            "38 --> the\n",
            "39 --> Greeks\n",
            "40 --> ,\n",
            "41 --> the\n",
            "42 --> Turks\n",
            "43 --> ,\n",
            "44 --> the\n",
            "45 --> Moguls\n",
            "46 --> ,\n",
            "47 --> the\n",
            "48 --> Portuguese\n",
            "49 --> ,\n",
            "50 --> the\n",
            "51 --> British\n",
            "52 --> ,\n",
            "53 --> the\n",
            "54 --> French\n",
            "55 --> ,\n",
            "56 --> the\n",
            "57 --> Dutch\n",
            "58 --> ,\n",
            "59 --> all\n",
            "60 --> of\n",
            "61 --> them\n",
            "62 --> came\n",
            "63 --> and\n",
            "64 --> looted\n",
            "65 --> us\n",
            "66 --> ,\n",
            "67 --> took\n",
            "68 --> over\n",
            "69 --> what\n",
            "70 --> was\n",
            "71 --> ours\n",
            "72 --> .\n",
            "73 --> Yet\n",
            "74 --> we\n",
            "75 --> have\n",
            "76 --> not\n",
            "77 --> done\n",
            "78 --> this\n",
            "79 --> to\n",
            "80 --> any\n",
            "81 --> other\n",
            "82 --> nation\n",
            "83 --> .\n",
            "84 --> We\n",
            "85 --> have\n",
            "86 --> not\n",
            "87 --> conquered\n",
            "88 --> anyone\n",
            "89 --> .\n",
            "90 --> We\n",
            "91 --> have\n",
            "92 --> not\n",
            "93 --> grabbed\n",
            "94 --> their\n",
            "95 --> land\n",
            "96 --> ,\n",
            "97 --> their\n",
            "98 --> culture\n",
            "99 --> ,\n",
            "100 --> their\n",
            "101 --> history\n",
            "102 --> and\n",
            "103 --> tried\n",
            "104 --> to\n",
            "105 --> enforce\n",
            "106 --> our\n",
            "107 --> way\n",
            "108 --> of\n",
            "109 --> life\n",
            "110 --> on\n",
            "111 --> them\n",
            "112 --> .\n",
            "113 --> Why\n",
            "114 --> ?\n",
            "115 --> Because\n",
            "116 --> we\n",
            "117 --> respect\n",
            "118 --> the\n",
            "119 --> freedom\n",
            "120 --> of\n",
            "121 --> others.That\n",
            "122 --> is\n",
            "123 --> why\n",
            "124 --> my\n",
            "125 --> first\n",
            "126 --> vision\n",
            "127 --> is\n",
            "128 --> that\n",
            "129 --> of\n",
            "130 --> freedom\n",
            "131 --> .\n",
            "132 --> I\n",
            "133 --> believe\n",
            "134 --> that\n",
            "135 --> India\n",
            "136 --> got\n",
            "137 --> its\n",
            "138 --> first\n",
            "139 --> vision\n",
            "140 --> of\n",
            "141 --> this\n",
            "142 --> in\n",
            "143 --> 1857\n",
            "144 --> ,\n",
            "145 --> when\n",
            "146 --> we\n",
            "147 --> started\n",
            "148 --> the\n",
            "149 --> War\n",
            "150 --> of\n",
            "151 --> Independence\n",
            "152 --> .\n",
            "153 --> It\n",
            "154 --> is\n",
            "155 --> this\n",
            "156 --> freedom\n",
            "157 --> that\n",
            "158 --> we\n",
            "159 --> must\n",
            "160 --> protect\n",
            "161 --> and\n",
            "162 --> nurture\n",
            "163 --> and\n",
            "164 --> build\n",
            "165 --> on\n",
            "166 --> .\n",
            "167 --> If\n",
            "168 --> we\n",
            "169 --> are\n",
            "170 --> not\n",
            "171 --> free\n",
            "172 --> ,\n",
            "173 --> no\n",
            "174 --> one\n",
            "175 --> will\n",
            "176 --> respect\n",
            "177 --> us\n",
            "178 --> .\n",
            "179 --> My\n",
            "180 --> second\n",
            "181 --> vision\n",
            "182 --> for\n",
            "183 --> India\n",
            "184 --> ’\n",
            "185 --> s\n",
            "186 --> development\n",
            "187 --> .\n",
            "188 --> For\n",
            "189 --> fifty\n",
            "190 --> years\n",
            "191 --> we\n",
            "192 --> have\n",
            "193 --> been\n",
            "194 --> a\n",
            "195 --> developing\n",
            "196 --> nation\n",
            "197 --> .\n",
            "198 --> It\n",
            "199 --> is\n",
            "200 --> time\n",
            "201 --> we\n",
            "202 --> see\n",
            "203 --> ourselves\n",
            "204 --> as\n",
            "205 --> a\n",
            "206 --> developed\n",
            "207 --> nation\n",
            "208 --> .\n",
            "209 --> We\n",
            "210 --> are\n",
            "211 --> among\n",
            "212 --> the\n",
            "213 --> top\n",
            "214 --> 5\n",
            "215 --> nations\n",
            "216 --> of\n",
            "217 --> the\n",
            "218 --> world\n",
            "219 --> in\n",
            "220 --> terms\n",
            "221 --> of\n",
            "222 --> GDP\n",
            "223 --> .\n",
            "224 --> We\n",
            "225 --> have\n",
            "226 --> a\n",
            "227 --> 10\n",
            "228 --> percent\n",
            "229 --> growth\n",
            "230 --> rate\n",
            "231 --> in\n",
            "232 --> most\n",
            "233 --> areas\n",
            "234 --> .\n",
            "235 --> Our\n",
            "236 --> poverty\n",
            "237 --> levels\n",
            "238 --> are\n",
            "239 --> falling\n",
            "240 --> .\n",
            "241 --> Our\n",
            "242 --> achievements\n",
            "243 --> are\n",
            "244 --> being\n",
            "245 --> globally\n",
            "246 --> recognised\n",
            "247 --> today\n",
            "248 --> .\n",
            "249 --> Yet\n",
            "250 --> we\n",
            "251 --> lack\n",
            "252 --> the\n",
            "253 --> self-confidence\n",
            "254 --> to\n",
            "255 --> see\n",
            "256 --> ourselves\n",
            "257 --> as\n",
            "258 --> a\n",
            "259 --> developed\n",
            "260 --> nation\n",
            "261 --> ,\n",
            "262 --> self-reliant\n",
            "263 --> and\n",
            "264 --> self-assured\n",
            "265 --> .\n",
            "266 --> Isn\n",
            "267 --> ’\n",
            "268 --> t\n",
            "269 --> this\n",
            "270 --> incorrect\n",
            "271 --> ?\n",
            "272 --> I\n",
            "273 --> have\n",
            "274 --> a\n",
            "275 --> third\n",
            "276 --> vision\n",
            "277 --> .\n",
            "278 --> India\n",
            "279 --> must\n",
            "280 --> stand\n",
            "281 --> up\n",
            "282 --> to\n",
            "283 --> the\n",
            "284 --> world\n",
            "285 --> .\n",
            "286 --> Because\n",
            "287 --> I\n",
            "288 --> believe\n",
            "289 --> that\n",
            "290 --> unless\n",
            "291 --> India\n",
            "292 --> stands\n",
            "293 --> up\n",
            "294 --> to\n",
            "295 --> the\n",
            "296 --> world\n",
            "297 --> ,\n",
            "298 --> no\n",
            "299 --> one\n",
            "300 --> will\n",
            "301 --> respect\n",
            "302 --> us\n",
            "303 --> .\n",
            "304 --> Only\n",
            "305 --> strength\n",
            "306 --> respects\n",
            "307 --> strength\n",
            "308 --> .\n",
            "309 --> We\n",
            "310 --> must\n",
            "311 --> be\n",
            "312 --> strong\n",
            "313 --> not\n",
            "314 --> only\n",
            "315 --> as\n",
            "316 --> a\n",
            "317 --> military\n",
            "318 --> power\n",
            "319 --> but\n",
            "320 --> also\n",
            "321 --> as\n",
            "322 --> an\n",
            "323 --> economic\n",
            "324 --> power\n",
            "325 --> .\n",
            "326 --> Both\n",
            "327 --> must\n",
            "328 --> go\n",
            "329 --> hand-in-hand\n",
            "330 --> .\n",
            "331 --> My\n",
            "332 --> good\n",
            "333 --> fortune\n",
            "334 --> was\n",
            "335 --> to\n",
            "336 --> have\n",
            "337 --> worked\n",
            "338 --> with\n",
            "339 --> three\n",
            "340 --> great\n",
            "341 --> minds\n",
            "342 --> .\n",
            "343 --> Dr.\n",
            "344 --> Vikram\n",
            "345 --> Sarabhai\n",
            "346 --> of\n",
            "347 --> the\n",
            "348 --> Dept\n",
            "349 --> .\n",
            "350 --> of\n",
            "351 --> space\n",
            "352 --> ,\n",
            "353 --> Professor\n",
            "354 --> Satish\n",
            "355 --> Dhawan\n",
            "356 --> ,\n",
            "357 --> who\n",
            "358 --> succeeded\n",
            "359 --> him\n",
            "360 --> and\n",
            "361 --> Dr.\n",
            "362 --> Brahm\n",
            "363 --> Prakash\n",
            "364 --> ,\n",
            "365 --> father\n",
            "366 --> of\n",
            "367 --> nuclear\n",
            "368 --> material\n",
            "369 --> .\n",
            "370 --> I\n",
            "371 --> was\n",
            "372 --> lucky\n",
            "373 --> to\n",
            "374 --> have\n",
            "375 --> worked\n",
            "376 --> with\n",
            "377 --> all\n",
            "378 --> three\n",
            "379 --> of\n",
            "380 --> them\n",
            "381 --> closely\n",
            "382 --> and\n",
            "383 --> consider\n",
            "384 --> this\n",
            "385 --> the\n",
            "386 --> great\n",
            "387 --> opportunity\n",
            "388 --> of\n",
            "389 --> my\n",
            "390 --> life\n",
            "391 --> .\n",
            "392 --> I\n",
            "393 --> see\n",
            "394 --> four\n",
            "395 --> milestones\n",
            "396 --> in\n",
            "397 --> my\n",
            "398 --> career\n"
          ]
        }
      ]
    },
    {
      "cell_type": "markdown",
      "source": [
        "## Stemming"
      ],
      "metadata": {
        "id": "zVSSGIfFGveY"
      }
    },
    {
      "cell_type": "markdown",
      "source": [
        "Doesnot have any meaning "
      ],
      "metadata": {
        "id": "6SQZMY_gKMH_"
      }
    },
    {
      "cell_type": "code",
      "source": [
        "sentences = nltk.sent_tokenize(paragraph) # text to split into sentences\n",
        "stemmer = PorterStemmer() # Stemming purpose \n",
        "\n",
        "# Stemming\n",
        "for i in range(len(sentences)):\n",
        "    words = nltk.word_tokenize(sentences[i])\n",
        "    words = [stemmer.stem(word) for word in words if word not in set(stopwords.words('english'))]\n",
        "    sentences[i] = ' '.join(words) \n",
        "\n",
        "for idx, sen in enumerate(sentences):\n",
        "  print(\"{} --> {}\".format(idx, sen))"
      ],
      "metadata": {
        "colab": {
          "base_uri": "https://localhost:8080/"
        },
        "id": "-ABBDrQBIiG4",
        "outputId": "14f5ddd3-14c4-466b-f63f-81f95cd99a4b"
      },
      "execution_count": 44,
      "outputs": [
        {
          "output_type": "stream",
          "name": "stdout",
          "text": [
            "0 --> i three vision india .\n",
            "1 --> in 3000 year histori , peopl world come invad us , captur land , conquer mind .\n",
            "2 --> from alexand onward , greek , turk , mogul , portugues , british , french , dutch , came loot us , took .\n",
            "3 --> yet done nation .\n",
            "4 --> we conquer anyon .\n",
            "5 --> we grab land , cultur , histori tri enforc way life .\n",
            "6 --> whi ?\n",
            "7 --> becaus respect freedom others.that first vision freedom .\n",
            "8 --> i believ india got first vision 1857 , start war independ .\n",
            "9 --> it freedom must protect nurtur build .\n",
            "10 --> if free , one respect us .\n",
            "11 --> my second vision india ’ develop .\n",
            "12 --> for fifti year develop nation .\n",
            "13 --> it time see develop nation .\n",
            "14 --> we among top 5 nation world term gdp .\n",
            "15 --> we 10 percent growth rate area .\n",
            "16 --> our poverti level fall .\n",
            "17 --> our achiev global recognis today .\n",
            "18 --> yet lack self-confid see develop nation , self-reli self-assur .\n",
            "19 --> isn ’ incorrect ?\n",
            "20 --> i third vision .\n",
            "21 --> india must stand world .\n",
            "22 --> becaus i believ unless india stand world , one respect us .\n",
            "23 --> onli strength respect strength .\n",
            "24 --> we must strong militari power also econom power .\n",
            "25 --> both must go hand-in-hand .\n",
            "26 --> my good fortun work three great mind .\n",
            "27 --> dr. vikram sarabhai dept .\n",
            "28 --> space , professor satish dhawan , succeed dr. brahm prakash , father nuclear materi .\n",
            "29 --> i lucki work three close consid great opportun life .\n",
            "30 --> i see four mileston career\n"
          ]
        }
      ]
    },
    {
      "cell_type": "markdown",
      "source": [
        "## Lemmatization "
      ],
      "metadata": {
        "id": "BDsCJz6qGy8M"
      }
    },
    {
      "cell_type": "code",
      "source": [
        "entences = nltk.sent_tokenize(paragraph)\n",
        "lemmatizer = WordNetLemmatizer()\n",
        "\n",
        "# Lemmatization\n",
        "for i in range(len(sentences)):\n",
        "    words = nltk.word_tokenize(sentences[i])\n",
        "    words = [lemmatizer.lemmatize(word) for word in words if word not in set(stopwords.words('english'))]\n",
        "    sentences[i] = ' '.join(words)  \n",
        "\n",
        "for idx, sen in enumerate(sentences):\n",
        "  print(\"{} --> {}\".format(idx, sen))  "
      ],
      "metadata": {
        "colab": {
          "base_uri": "https://localhost:8080/"
        },
        "id": "ZYPAeXWtKS3h",
        "outputId": "7a35d956-8975-45c6-9b41-2eda392f23da"
      },
      "execution_count": 45,
      "outputs": [
        {
          "output_type": "stream",
          "name": "stdout",
          "text": [
            "0 --> three vision india .\n",
            "1 --> 3000 year histori , peopl world come invad u , captur land , conquer mind .\n",
            "2 --> alexand onward , greek , turk , mogul , portugues , british , french , dutch , came loot u , took .\n",
            "3 --> yet done nation .\n",
            "4 --> conquer anyon .\n",
            "5 --> grab land , cultur , histori tri enforc way life .\n",
            "6 --> whi ?\n",
            "7 --> becaus respect freedom others.that first vision freedom .\n",
            "8 --> believ india got first vision 1857 , start war independ .\n",
            "9 --> freedom must protect nurtur build .\n",
            "10 --> free , one respect u .\n",
            "11 --> second vision india ’ develop .\n",
            "12 --> fifti year develop nation .\n",
            "13 --> time see develop nation .\n",
            "14 --> among top 5 nation world term gdp .\n",
            "15 --> 10 percent growth rate area .\n",
            "16 --> poverti level fall .\n",
            "17 --> achiev global recognis today .\n",
            "18 --> yet lack self-confid see develop nation , self-reli self-assur .\n",
            "19 --> ’ incorrect ?\n",
            "20 --> third vision .\n",
            "21 --> india must stand world .\n",
            "22 --> becaus believ unless india stand world , one respect u .\n",
            "23 --> onli strength respect strength .\n",
            "24 --> must strong militari power also econom power .\n",
            "25 --> must go hand-in-hand .\n",
            "26 --> good fortun work three great mind .\n",
            "27 --> dr. vikram sarabhai dept .\n",
            "28 --> space , professor satish dhawan , succeed dr. brahm prakash , father nuclear materi .\n",
            "29 --> lucki work three close consid great opportun life .\n",
            "30 --> see four mileston career\n"
          ]
        }
      ]
    },
    {
      "cell_type": "markdown",
      "source": [
        "## Bag of words"
      ],
      "metadata": {
        "id": "gGEHrvWUKeVU"
      }
    },
    {
      "cell_type": "code",
      "source": [],
      "metadata": {
        "id": "8yA9SkC4KjBg"
      },
      "execution_count": null,
      "outputs": []
    },
    {
      "cell_type": "markdown",
      "source": [
        "## TFIDF"
      ],
      "metadata": {
        "id": "Gwb0CUWLG3M2"
      }
    },
    {
      "cell_type": "code",
      "execution_count": null,
      "metadata": {
        "id": "kVRW5ORQGol9"
      },
      "outputs": [],
      "source": []
    },
    {
      "cell_type": "markdown",
      "source": [
        "## Word2Vec"
      ],
      "metadata": {
        "id": "v2xo8PGzKhdy"
      }
    },
    {
      "cell_type": "code",
      "source": [],
      "metadata": {
        "id": "TMVjEmNcKlVy"
      },
      "execution_count": null,
      "outputs": []
    }
  ]
}